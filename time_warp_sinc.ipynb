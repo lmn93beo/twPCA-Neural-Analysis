{
 "cells": [
  {
   "cell_type": "markdown",
   "metadata": {},
   "source": [
    "# Time-warping with parametric stretch functions\n",
    "*Nhat Le, November 2017*"
   ]
  },
  {
   "cell_type": "code",
   "execution_count": 1,
   "metadata": {
    "collapsed": true
   },
   "outputs": [],
   "source": [
    "import numpy as np\n",
    "import matplotlib.pyplot as plt\n",
    "import seaborn as sns\n",
    "import os\n",
    "\n",
    "%matplotlib inline"
   ]
  },
  {
   "cell_type": "code",
   "execution_count": 2,
   "metadata": {
    "collapsed": true
   },
   "outputs": [],
   "source": [
    "# Sinc interpolation example\n",
    "def interpol(t, x, intertype='sinc'):\n",
    "    '''Given a signal x and a list of timestamps t\n",
    "    Return the sinc interpolation at the timestamps'''\n",
    "    if intertype == 'sinc':\n",
    "        k = np.arange(len(x))\n",
    "        tval, kval = np.meshgrid(t, k)\n",
    "        ktmat = np.sinc(tval - kval)\n",
    "        return np.dot(ktmat.T, x)\n",
    "    elif intertype == 'linear':\n",
    "        frac, floor = np.modf(t)\n",
    "        floor_range = np.clip(t.astype('int'), 0, len(x) - 1)\n",
    "        floor_next_range = np.clip((t + 1).astype('int'), 0, len(x) - 1)\n",
    "\n",
    "        xfirst = x[floor_range]\n",
    "        xnext = x[floor_next_range]\n",
    "\n",
    "        return xfirst + frac * (xnext - xfirst)\n",
    "\n",
    "def deriv_sinc(x):\n",
    "    '''Derivative of the sinc function'''\n",
    "    x[x == 0] = 10**-10\n",
    "    return (x * np.cos(x) - np.sin(x)) / x**2\n",
    "\n",
    "def total_cost(x, y, a, intertype='sinc'):\n",
    "    '''Given x(t) and y(t), find ||x(at) - y(t)||**2'''\n",
    "    N = min(int(len(x) / a), len(y))\n",
    "    tvals = np.arange(N) * a\n",
    "    x_stretch = interpol(tvals, x, intertype)\n",
    "    \n",
    "    return x_stretch[:N], np.sum((x_stretch[:N] - y[:N])**2) / N\n",
    "\n",
    "def do_stretch(x, stretch, intertype='sinc'):\n",
    "    '''Given: signal, x and stretch factor\n",
    "    Returns array of t and x(t) stretched by that factor'''\n",
    "    tvals = stretch * np.arange(int(len(x) / stretch))\n",
    "    x_stretch = interpol(tvals, x, intertype)\n",
    "    return tvals, x_stretch\n",
    "    "
   ]
  },
  {
   "cell_type": "code",
   "execution_count": 3,
   "metadata": {
    "collapsed": true
   },
   "outputs": [],
   "source": [
    "def total_cost_new(x, y, a, intertype='sinc'):\n",
    "    '''Given x(t) and y(t), find ||x(at) - y(t)||**2'''\n",
    "    # Build a matrix for the transformation\n",
    "    tbase = np.zeros((len(a), len(x) * 10))\n",
    "    for i in range(len(a)):\n",
    "        tbase[i,:] = np.arange(len(x) * 10)**i\n",
    "    \n",
    "    # Transform x's t values\n",
    "    targs = np.dot(tbase.T, a)\n",
    "    \n",
    "    # Extract only the valid t values (those in the range [0,..,Tx - 1])\n",
    "    valid_id = np.nonzero(np.all([targs >= 0, targs <= len(x) - 1], axis=0))[0]\n",
    "    \n",
    "    # Keep valid id's up to Ty\n",
    "    valid_id = valid_id[valid_id < len(y)]\n",
    "    \n",
    "    tvalid = targs[valid_id]\n",
    "    x_interp = interpol(tvalid, x, intertype)\n",
    "    \n",
    "    return valid_id, x_interp, np.sum((x_interp - y[valid_id])**2) / len(tvalid)\n",
    "\n",
    "def save_safe(filename, obj=None):\n",
    "    '''Checks if file exists before saving'''\n",
    "    if not os.path.isfile(filename):\n",
    "        if obj == None:\n",
    "            plt.savefig(filename)\n",
    "        else:\n",
    "            np.savetxt(filename, obj, delimiter=',')\n",
    "    else:\n",
    "        raise IOError('File exists!')"
   ]
  },
  {
   "cell_type": "code",
   "execution_count": 4,
   "metadata": {},
   "outputs": [
    {
     "data": {
      "text/plain": [
       "[<matplotlib.lines.Line2D at 0x2bca6666438>]"
      ]
     },
     "execution_count": 4,
     "metadata": {},
     "output_type": "execute_result"
    },
    {
     "data": {
      "image/png": "[encoded data removed]",
      "text/plain": [
       "<matplotlib.figure.Figure at 0x2bca6666400>"
      ]
     },
     "metadata": {},
     "output_type": "display_data"
    }
   ],
   "source": [
    "t = np.linspace(-5, 5, 100)\n",
    "x = np.exp(-t**2)\n",
    "y = np.exp(-(0.65 * t - 0.41)**2)\n",
    "plt.plot(t,x)\n",
    "plt.plot(t,y)"
   ]
  },
  {
   "cell_type": "code",
   "execution_count": 5,
   "metadata": {
    "collapsed": true
   },
   "outputs": [],
   "source": [
    "#x = np.array([0,2,4,2,0])\n",
    "#y = np.array([0,1,2,3,4,5,4,3,2,1,0])\n",
    "alst = np.linspace(0.1, 2, 50)\n",
    "\n",
    "costold = []\n",
    "costnew = []\n",
    "\n",
    "for aval in alst:\n",
    "    a_arr = np.array([0, aval])\n",
    "    costold.append(total_cost(x, y, aval, 'sinc')[-1])\n",
    "    costnew.append(total_cost_new(x, y, a_arr, 'sinc')[-1])\n",
    "\n",
    "    boptions = np.linspace(0, 30, 100)\n",
    "aoptions = np.linspace(0.1, 1, 100)\n",
    "res = np.zeros((100, 100))\n",
    "for idb, b in enumerate(boptions):\n",
    "    for ida, a in enumerate(aoptions):\n",
    "        valid_id, x_stretch, cost = total_cost_new(x,y, np.array([b, a]), 'linear')\n",
    "        res[idb][ida] = cost\n",
    "        #plt.plot(t[valid_id], x_stretch)\n",
    "        #plt.plot(t, x)    "
   ]
  },
  {
   "cell_type": "code",
   "execution_count": 6,
   "metadata": {},
   "outputs": [
    {
     "data": {
      "text/plain": [
       "[<matplotlib.lines.Line2D at 0x2bca6b61cc0>]"
      ]
     },
     "execution_count": 6,
     "metadata": {},
     "output_type": "execute_result"
    },
    {
     "data": {
      "image/png": "[encoded data removed]",
      "text/plain": [
       "<matplotlib.figure.Figure at 0x2bca6afc198>"
      ]
     },
     "metadata": {},
     "output_type": "display_data"
    }
   ],
   "source": [
    "valid_id, x_stretch, cost = total_cost_new(x,y, np.array([13, 0.65]), 'linear')\n",
    "plt.plot(t[valid_id], x_stretch)\n",
    "plt.plot(t, x)\n",
    "plt.plot(t, y, '--')"
   ]
  },
  {
   "cell_type": "code",
   "execution_count": 7,
   "metadata": {
    "collapsed": true
   },
   "outputs": [],
   "source": [
    "def make_all_pad(short_arr_file, long_arr_file, _t_points_short, _t_points_long, _n_neurons):\n",
    "    '''Given the file names, return the reshaped_all_pad'''\n",
    "    _short_psth = np.genfromtxt(short_arr_file, delimiter=',')\n",
    "    _long_psth = np.genfromtxt(long_arr_file, delimiter=',')\n",
    "    \n",
    "    # Reshape the short and long raw data into tensors\n",
    "    _reshaped_short_psth = np.reshape(_short_psth, (_n_neurons, _t_points_short, -1))\n",
    "    _reshaped_long_psth = np.reshape(_long_psth, (_n_neurons, _t_points_long, -1))\n",
    "    duration_short = _reshaped_short_psth.shape[2]\n",
    "    duration_long = _reshaped_long_psth.shape[2]\n",
    "\n",
    "    # Combine short and long trials into one tensor\n",
    "    _reshaped_short_pad = np.lib.pad(_reshaped_short_psth, ((0,0), (0,0), \n",
    "                                                          (0, duration_long-duration_short)), \n",
    "                                    'constant', constant_values=(np.nan, np.nan))\n",
    "    return np.concatenate((_reshaped_short_pad, _reshaped_long_psth), axis=1)\n"
   ]
  },
  {
   "cell_type": "code",
   "execution_count": 8,
   "metadata": {},
   "outputs": [],
   "source": [
    "reshaped_all_pad_caudate = make_all_pad('./Raws/psth_short_all_neurons_nans_171102.csv', \n",
    "                               './Raws/psth_long_all_neurons_nans_171102.csv',\n",
    "                               _t_points_short=7, _t_points_long=9, _n_neurons=105)\n",
    "reshaped_all_pad_cortex = make_all_pad('./Raws/psth_short_XAcortexHand_171109.csv', \n",
    "                               './Raws/psth_long_XAcortexHand_171109.csv',\n",
    "                               _t_points_short=6, _t_points_long=9, _n_neurons=284)\n",
    "\n",
    "# Define palette used in plotting\n",
    "palette_blue = sns.palettes.color_palette('Blues', 7)\n",
    "palette_red = sns.palettes.color_palette('Reds', 9)"
   ]
  },
  {
   "cell_type": "code",
   "execution_count": 9,
   "metadata": {
    "collapsed": true
   },
   "outputs": [],
   "source": [
    "def get_stretch_neuron(all_neurons, neuron_id, stretches, intertype='sinc', normalize=True):\n",
    "    '''Input: all_neurons: array of all neurons\n",
    "    neuron_id: neuron of interest\n",
    "    stretches: possible stretches to consider\n",
    "    Returns the array of stretch for each condition'''\n",
    "    sref = all_neurons[neuron_id, -1, :]\n",
    "    sref = sref[~np.isnan(sref)] \n",
    "    if normalize:\n",
    "        sref /= np.nanmedian(sref)\n",
    "    \n",
    "    min_stretch = []\n",
    "    costs = []\n",
    "\n",
    "    for i in range(all_neurons.shape[1]):\n",
    "        s1 = all_neurons[neuron_id, i, :]\n",
    "        s1 = s1[~np.isnan(s1)] \n",
    "        if normalize:\n",
    "            s1 /= np.nanmedian(s1)\n",
    "        cost = []\n",
    "        for stretch in stretchlst:\n",
    "            xs, cost_single = total_cost(s1, sref, stretch, intertype)\n",
    "            cost.append(cost_single)\n",
    "        costs.append(cost)\n",
    "        min_stretch.append(stretchlst[np.argmin(cost)])\n",
    "    return np.array(min_stretch)\n",
    "\n",
    "def visualize_stretch(all_neurons, neuron_id, trial, stretch, intertype='sinc'):\n",
    "    '''Given a neuronID and the stretch amount,\n",
    "    plot the stretched trial'''\n",
    "    sref = all_neurons[neuron_id, -1, :]\n",
    "    sref = sref[~np.isnan(sref)] / np.nanmedian(sref)\n",
    "    s1 = all_neurons[neuron_id, trial, :]\n",
    "    s1 = s1[~np.isnan(s1)] / np.nanmedian(s1)\n",
    "    _, x = do_stretch(s1, stretch, intertype)\n",
    "    plt.plot(sref, '--', label='Reference')\n",
    "    plt.plot(s1, label='Before')\n",
    "    plt.plot(x, label='After')\n",
    "    plt.legend()\n",
    "    "
   ]
  },
  {
   "cell_type": "code",
   "execution_count": 10,
   "metadata": {
    "collapsed": true
   },
   "outputs": [],
   "source": [
    "def get_stretch_neuron_new(all_neurons, neuron_id, boptions, aoptions, intertype='sinc'):\n",
    "    '''Input: all_neurons: array of all neurons\n",
    "    neuron_id: neuron of interest\n",
    "    stretches: possible stretches to consider\n",
    "    Returns the array of stretch for each condition'''\n",
    "    sref = all_neurons[neuron_id, -1, :]\n",
    "    sref = sref[~np.isnan(sref)] / np.nanmax(sref)\n",
    "    \n",
    "    min_b_vals = []\n",
    "    min_a_vals = []\n",
    "    \n",
    "    for i in range(all_neurons.shape[1]):\n",
    "        print('Doing neuron #', i)\n",
    "        s1 = all_neurons[neuron_id, i, :]\n",
    "        s1 = s1[~np.isnan(s1)] / np.nanmax(s1)\n",
    "        bestcost = np.inf\n",
    "        best_a = np.inf\n",
    "        best_b = np.inf\n",
    "        for ida, a in enumerate(aoptions):\n",
    "            for idb, b in enumerate(boptions):\n",
    "                _, _, cost = total_cost_new(s1, sref, np.array([b, a]), intertype)\n",
    "                if cost < bestcost:\n",
    "                    bestcost = cost\n",
    "                    best_a = a\n",
    "                    best_b = b\n",
    "        \n",
    "        min_a_vals.append(best_a)\n",
    "        min_b_vals.append(best_b)\n",
    "    return np.array([min_a_vals, min_b_vals])\n",
    "    \n",
    "    \n",
    "def visualize_stretch_new(all_neurons, neuron_id, trial, a, intertype='sinc'):\n",
    "    '''Given a neuronID and the stretch amount,\n",
    "    plot the stretched trial'''\n",
    "    sref = all_neurons[neuron_id, -1, :]\n",
    "    sref = sref[~np.isnan(sref)] / np.nanmax(sref)\n",
    "    s1 = all_neurons[neuron_id, trial, :]\n",
    "    s1 = s1[~np.isnan(s1)] / np.nanmax(s1)\n",
    "    \n",
    "    valid_id, x_stretch, cost = total_cost_new(s1, sref, a, 'linear')\n",
    "    plt.plot(valid_id, x_stretch, label='After')\n",
    "    plt.plot(s1, label='Before')\n",
    "    plt.plot(sref, '--', label='Reference')\n",
    "    plt.legend()\n",
    "    "
   ]
  },
  {
   "cell_type": "code",
   "execution_count": 11,
   "metadata": {
    "scrolled": false
   },
   "outputs": [
    {
     "data": {
      "image/png": "[encoded data removed]",
      "text/plain": [
       "<matplotlib.figure.Figure at 0x2bca7ba9080>"
      ]
     },
     "metadata": {},
     "output_type": "display_data"
    }
   ],
   "source": [
    "visualize_stretch(reshaped_all_pad_cortex, 0, 0, 0.39, 'linear')"
   ]
  },
  {
   "cell_type": "code",
   "execution_count": 12,
   "metadata": {},
   "outputs": [
    {
     "data": {
      "image/png": "[encoded data removed]",
      "text/plain": [
       "<matplotlib.figure.Figure at 0x2bca7bd6780>"
      ]
     },
     "metadata": {},
     "output_type": "display_data"
    }
   ],
   "source": [
    "visualize_stretch_new(reshaped_all_pad_caudate, 10, 3, np.array([0, 0.42]), 'linear')"
   ]
  },
  {
   "cell_type": "markdown",
   "metadata": {},
   "source": [
    "Stretch for single neuron"
   ]
  },
  {
   "cell_type": "code",
   "execution_count": 13,
   "metadata": {},
   "outputs": [
    {
     "data": {
      "text/plain": [
       "<matplotlib.text.Text at 0x2bca822f710>"
      ]
     },
     "execution_count": 13,
     "metadata": {},
     "output_type": "execute_result"
    },
    {
     "data": {
      "image/png": "[encoded data removed]",
      "text/plain": [
       "<matplotlib.figure.Figure at 0x2bca7bbf860>"
      ]
     },
     "metadata": {},
     "output_type": "display_data"
    }
   ],
   "source": [
    "stretchlst = np.arange(0.1, 1.0, 0.01)\n",
    "n_neuron = 18\n",
    "min_stretch_sinc = get_stretch_neuron(reshaped_all_pad_cortex, n_neuron, stretchlst, 'sinc')\n",
    "min_stretch_linear = get_stretch_neuron(reshaped_all_pad_cortex, n_neuron, stretchlst, 'linear')\n",
    "times = np.array([740, 760, 780, 800, 820, 840, 1300, 1340, 1380, 1420, 1460, 1500, 1540, 1580, 1620])\n",
    "\n",
    "plt.subplot('121')\n",
    "plt.plot(times, min_stretch_sinc, '.')\n",
    "plt.xlim(0, 1700)\n",
    "plt.ylim(0, 2)\n",
    "plt.plot(times, times / 1620)\n",
    "plt.title('Neuron #' + str(n_neuron) + ', sinc')\n",
    "\n",
    "plt.subplot('122')\n",
    "plt.plot(times, min_stretch_linear, '.')\n",
    "plt.xlim(0, 1700)\n",
    "plt.ylim(0, 2)\n",
    "plt.plot(times, times / 1620)\n",
    "plt.title('Neuron #' + str(n_neuron) + ', linear')\n"
   ]
  },
  {
   "cell_type": "markdown",
   "metadata": {},
   "source": [
    "## Find stretch for all neurons"
   ]
  },
  {
   "cell_type": "code",
   "execution_count": 14,
   "metadata": {
    "collapsed": true
   },
   "outputs": [],
   "source": [
    "def find_stretch_all_neurons(psth_all, stretchlst, times):\n",
    "    n_neurs = psth_all.shape[0]\n",
    "    Min_stretch_sinc = np.zeros((n_neurs, len(times)))\n",
    "    Min_stretch_linear = np.zeros((n_neurs, len(times)))\n",
    "    for neuron_id in range(n_neurs):\n",
    "        print('Aligning neuron #', neuron_id, ' of ', n_neurs)\n",
    "        min_stretch_sinc = get_stretch_neuron(psth_all, neuron_id, stretchlst, 'sinc')\n",
    "        min_stretch_linear = get_stretch_neuron(psth_all, neuron_id, stretchlst, 'linear')\n",
    "        Min_stretch_sinc[neuron_id, :] = min_stretch_sinc\n",
    "        Min_stretch_linear[neuron_id, :] = min_stretch_linear\n",
    "        \n",
    "    # Find the correlation coefficients\n",
    "    corr_coefs_linear = np.corrcoef(times, Min_stretch_linear)[0,1:]\n",
    "    corr_coefs_sinc = np.corrcoef(times, Min_stretch_sinc)[0,1:]\n",
    "    \n",
    "    return Min_stretch_linear, Min_stretch_sinc, corr_coefs_linear, corr_coefs_sinc"
   ]
  },
  {
   "cell_type": "code",
   "execution_count": 15,
   "metadata": {
    "scrolled": true
   },
   "outputs": [
    {
     "name": "stdout",
     "output_type": "stream",
     "text": [
      "Aligning neuron # 0  of  284\n",
      "Aligning neuron # 1  of  284\n",
      "Aligning neuron # 2  of  284\n",
      "Aligning neuron # 3  of  284\n"
     ]
    },
    {
     "name": "stderr",
     "output_type": "stream",
     "text": [
      "C:\\Users\\Le\\Anaconda2\\envs\\py36\\lib\\site-packages\\ipykernel\\__main__.py:18: RuntimeWarning: divide by zero encountered in true_divide\n",
      "C:\\Users\\Le\\Anaconda2\\envs\\py36\\lib\\site-packages\\ipykernel\\__main__.py:18: RuntimeWarning: invalid value encountered in true_divide\n",
      "C:\\Users\\Le\\Anaconda2\\envs\\py36\\lib\\site-packages\\ipykernel\\__main__.py:18: RuntimeWarning: invalid value encountered in subtract\n"
     ]
    },
    {
     "name": "stdout",
     "output_type": "stream",
     "text": [
      "Aligning neuron # 4  of  284\n",
      "Aligning neuron # 5  of  284\n",
      "Aligning neuron # 6  of  284\n",
      "Aligning neuron # 7  of  284\n",
      "Aligning neuron # 8  of  284\n",
      "Aligning neuron # 9  of  284\n",
      "Aligning neuron # 10  of  284\n",
      "Aligning neuron # 11  of  284\n",
      "Aligning neuron # 12  of  284\n",
      "Aligning neuron # 13  of  284\n",
      "Aligning neuron # 14  of  284\n",
      "Aligning neuron # 15  of  284\n",
      "Aligning neuron # 16  of  284\n",
      "Aligning neuron # 17  of  284\n",
      "Aligning neuron # 18  of  284\n",
      "Aligning neuron # 19  of  284\n",
      "Aligning neuron # 20  of  284\n",
      "Aligning neuron # 21  of  284\n",
      "Aligning neuron # 22  of  284\n",
      "Aligning neuron # 23  of  284\n",
      "Aligning neuron # 24  of  284\n",
      "Aligning neuron # 25  of  284\n",
      "Aligning neuron # 26  of  284\n",
      "Aligning neuron # 27  of  284\n",
      "Aligning neuron # 28  of  284\n",
      "Aligning neuron # 29  of  284\n",
      "Aligning neuron # 30  of  284\n",
      "Aligning neuron # 31  of  284\n",
      "Aligning neuron # 32  of  284\n",
      "Aligning neuron # 33  of  284\n",
      "Aligning neuron # 34  of  284\n",
      "Aligning neuron # 35  of  284\n",
      "Aligning neuron # 36  of  284\n",
      "Aligning neuron # 37  of  284\n",
      "Aligning neuron # 38  of  284\n",
      "Aligning neuron # 39  of  284\n",
      "Aligning neuron # 40  of  284\n",
      "Aligning neuron # 41  of  284\n",
      "Aligning neuron # 42  of  284\n",
      "Aligning neuron # 43  of  284\n",
      "Aligning neuron # 44  of  284\n",
      "Aligning neuron # 45  of  284\n",
      "Aligning neuron # 46  of  284\n",
      "Aligning neuron # 47  of  284\n",
      "Aligning neuron # 48  of  284\n",
      "Aligning neuron # 49  of  284\n",
      "Aligning neuron # 50  of  284\n",
      "Aligning neuron # 51  of  284\n",
      "Aligning neuron # 52  of  284\n",
      "Aligning neuron # 53  of  284\n",
      "Aligning neuron # 54  of  284\n",
      "Aligning neuron # 55  of  284\n",
      "Aligning neuron # 56  of  284\n",
      "Aligning neuron # 57  of  284\n",
      "Aligning neuron # 58  of  284\n",
      "Aligning neuron # 59  of  284\n",
      "Aligning neuron # 60  of  284\n",
      "Aligning neuron # 61  of  284\n",
      "Aligning neuron # 62  of  284\n",
      "Aligning neuron # 63  of  284\n",
      "Aligning neuron # 64  of  284\n",
      "Aligning neuron # 65  of  284\n",
      "Aligning neuron # 66  of  284\n",
      "Aligning neuron # 67  of  284\n",
      "Aligning neuron # 68  of  284\n",
      "Aligning neuron # 69  of  284\n",
      "Aligning neuron # 70  of  284\n",
      "Aligning neuron # 71  of  284\n",
      "Aligning neuron # 72  of  284\n",
      "Aligning neuron # 73  of  284\n",
      "Aligning neuron # 74  of  284\n",
      "Aligning neuron # 75  of  284\n",
      "Aligning neuron # 76  of  284\n",
      "Aligning neuron # 77  of  284\n",
      "Aligning neuron # 78  of  284\n",
      "Aligning neuron # 79  of  284\n",
      "Aligning neuron # 80  of  284\n",
      "Aligning neuron # 81  of  284\n",
      "Aligning neuron # 82  of  284\n",
      "Aligning neuron # 83  of  284\n",
      "Aligning neuron # 84  of  284\n",
      "Aligning neuron # 85  of  284\n",
      "Aligning neuron # 86  of  284\n",
      "Aligning neuron # 87  of  284\n",
      "Aligning neuron # 88  of  284\n",
      "Aligning neuron # 89  of  284\n",
      "Aligning neuron # 90  of  284\n",
      "Aligning neuron # 91  of  284\n",
      "Aligning neuron # 92  of  284\n",
      "Aligning neuron # 93  of  284\n",
      "Aligning neuron # 94  of  284\n",
      "Aligning neuron # 95  of  284\n",
      "Aligning neuron # 96  of  284\n",
      "Aligning neuron # 97  of  284\n",
      "Aligning neuron # 98  of  284\n",
      "Aligning neuron # 99  of  284\n",
      "Aligning neuron # 100  of  284\n",
      "Aligning neuron # 101  of  284\n",
      "Aligning neuron # 102  of  284\n",
      "Aligning neuron # 103  of  284\n",
      "Aligning neuron # 104  of  284\n",
      "Aligning neuron # 105  of  284\n",
      "Aligning neuron # 106  of  284\n",
      "Aligning neuron # 107  of  284\n",
      "Aligning neuron # 108  of  284\n",
      "Aligning neuron # 109  of  284\n",
      "Aligning neuron # 110  of  284\n",
      "Aligning neuron # 111  of  284\n",
      "Aligning neuron # 112  of  284\n",
      "Aligning neuron # 113  of  284\n",
      "Aligning neuron # 114  of  284\n",
      "Aligning neuron # 115  of  284\n",
      "Aligning neuron # 116  of  284\n",
      "Aligning neuron # 117  of  284\n",
      "Aligning neuron # 118  of  284\n",
      "Aligning neuron # 119  of  284\n",
      "Aligning neuron # 120  of  284\n",
      "Aligning neuron # 121  of  284\n",
      "Aligning neuron # 122  of  284\n",
      "Aligning neuron # 123  of  284\n",
      "Aligning neuron # 124  of  284\n",
      "Aligning neuron # 125  of  284\n",
      "Aligning neuron # 126  of  284\n",
      "Aligning neuron # 127  of  284\n",
      "Aligning neuron # 128  of  284\n",
      "Aligning neuron # 129  of  284\n",
      "Aligning neuron # 130  of  284\n",
      "Aligning neuron # 131  of  284\n",
      "Aligning neuron # 132  of  284\n",
      "Aligning neuron # 133  of  284\n",
      "Aligning neuron # 134  of  284\n",
      "Aligning neuron # 135  of  284\n"
     ]
    },
    {
     "name": "stderr",
     "output_type": "stream",
     "text": [
      "C:\\Users\\Le\\Anaconda2\\envs\\py36\\lib\\site-packages\\ipykernel\\__main__.py:9: RuntimeWarning: divide by zero encountered in true_divide\n",
      "C:\\Users\\Le\\Anaconda2\\envs\\py36\\lib\\site-packages\\ipykernel\\__main__.py:9: RuntimeWarning: invalid value encountered in true_divide\n"
     ]
    },
    {
     "name": "stdout",
     "output_type": "stream",
     "text": [
      "Aligning neuron # 136  of  284\n",
      "Aligning neuron # 137  of  284\n",
      "Aligning neuron # 138  of  284\n",
      "Aligning neuron # 139  of  284\n",
      "Aligning neuron # 140  of  284\n",
      "Aligning neuron # 141  of  284\n",
      "Aligning neuron # 142  of  284\n",
      "Aligning neuron # 143  of  284\n",
      "Aligning neuron # 144  of  284\n",
      "Aligning neuron # 145  of  284\n",
      "Aligning neuron # 146  of  284\n",
      "Aligning neuron # 147  of  284\n",
      "Aligning neuron # 148  of  284\n",
      "Aligning neuron # 149  of  284\n",
      "Aligning neuron # 150  of  284\n",
      "Aligning neuron # 151  of  284\n",
      "Aligning neuron # 152  of  284\n",
      "Aligning neuron # 153  of  284\n",
      "Aligning neuron # 154  of  284\n",
      "Aligning neuron # 155  of  284\n",
      "Aligning neuron # 156  of  284\n",
      "Aligning neuron # 157  of  284\n",
      "Aligning neuron # 158  of  284\n",
      "Aligning neuron # 159  of  284\n",
      "Aligning neuron # 160  of  284\n",
      "Aligning neuron # 161  of  284\n",
      "Aligning neuron # 162  of  284\n",
      "Aligning neuron # 163  of  284\n",
      "Aligning neuron # 164  of  284\n",
      "Aligning neuron # 165  of  284\n",
      "Aligning neuron # 166  of  284\n",
      "Aligning neuron # 167  of  284\n",
      "Aligning neuron # 168  of  284\n",
      "Aligning neuron # 169  of  284\n",
      "Aligning neuron # 170  of  284\n",
      "Aligning neuron # 171  of  284\n",
      "Aligning neuron # 172  of  284\n",
      "Aligning neuron # 173  of  284\n",
      "Aligning neuron # 174  of  284\n",
      "Aligning neuron # 175  of  284\n",
      "Aligning neuron # 176  of  284\n",
      "Aligning neuron # 177  of  284\n",
      "Aligning neuron # 178  of  284\n",
      "Aligning neuron # 179  of  284\n",
      "Aligning neuron # 180  of  284\n",
      "Aligning neuron # 181  of  284\n",
      "Aligning neuron # 182  of  284\n",
      "Aligning neuron # 183  of  284\n",
      "Aligning neuron # 184  of  284\n",
      "Aligning neuron # 185  of  284\n",
      "Aligning neuron # 186  of  284\n",
      "Aligning neuron # 187  of  284\n",
      "Aligning neuron # 188  of  284\n",
      "Aligning neuron # 189  of  284\n",
      "Aligning neuron # 190  of  284\n",
      "Aligning neuron # 191  of  284\n",
      "Aligning neuron # 192  of  284\n",
      "Aligning neuron # 193  of  284\n",
      "Aligning neuron # 194  of  284\n",
      "Aligning neuron # 195  of  284\n",
      "Aligning neuron # 196  of  284\n",
      "Aligning neuron # 197  of  284\n",
      "Aligning neuron # 198  of  284\n",
      "Aligning neuron # 199  of  284\n",
      "Aligning neuron # 200  of  284\n",
      "Aligning neuron # 201  of  284\n",
      "Aligning neuron # 202  of  284\n",
      "Aligning neuron # 203  of  284\n",
      "Aligning neuron # 204  of  284\n",
      "Aligning neuron # 205  of  284\n",
      "Aligning neuron # 206  of  284\n",
      "Aligning neuron # 207  of  284\n",
      "Aligning neuron # 208  of  284\n",
      "Aligning neuron # 209  of  284\n",
      "Aligning neuron # 210  of  284\n",
      "Aligning neuron # 211  of  284\n",
      "Aligning neuron # 212  of  284\n",
      "Aligning neuron # 213  of  284\n",
      "Aligning neuron # 214  of  284\n",
      "Aligning neuron # 215  of  284\n",
      "Aligning neuron # 216  of  284\n",
      "Aligning neuron # 217  of  284\n",
      "Aligning neuron # 218  of  284\n",
      "Aligning neuron # 219  of  284\n",
      "Aligning neuron # 220  of  284\n",
      "Aligning neuron # 221  of  284\n",
      "Aligning neuron # 222  of  284\n",
      "Aligning neuron # 223  of  284\n",
      "Aligning neuron # 224  of  284\n",
      "Aligning neuron # 225  of  284\n",
      "Aligning neuron # 226  of  284\n",
      "Aligning neuron # 227  of  284\n",
      "Aligning neuron # 228  of  284\n",
      "Aligning neuron # 229  of  284\n",
      "Aligning neuron # 230  of  284\n",
      "Aligning neuron # 231  of  284\n",
      "Aligning neuron # 232  of  284\n",
      "Aligning neuron # 233  of  284\n",
      "Aligning neuron # 234  of  284\n",
      "Aligning neuron # 235  of  284\n",
      "Aligning neuron # 236  of  284\n",
      "Aligning neuron # 237  of  284\n",
      "Aligning neuron # 238  of  284\n",
      "Aligning neuron # 239  of  284\n",
      "Aligning neuron # 240  of  284\n",
      "Aligning neuron # 241  of  284\n",
      "Aligning neuron # 242  of  284\n",
      "Aligning neuron # 243  of  284\n",
      "Aligning neuron # 244  of  284\n",
      "Aligning neuron # 245  of  284\n",
      "Aligning neuron # 246  of  284\n",
      "Aligning neuron # 247  of  284\n",
      "Aligning neuron # 248  of  284\n",
      "Aligning neuron # 249  of  284\n",
      "Aligning neuron # 250  of  284\n",
      "Aligning neuron # 251  of  284\n",
      "Aligning neuron # 252  of  284\n",
      "Aligning neuron # 253  of  284\n",
      "Aligning neuron # 254  of  284\n",
      "Aligning neuron # 255  of  284\n",
      "Aligning neuron # 256  of  284\n",
      "Aligning neuron # 257  of  284\n",
      "Aligning neuron # 258  of  284\n",
      "Aligning neuron # 259  of  284\n",
      "Aligning neuron # 260  of  284\n",
      "Aligning neuron # 261  of  284\n",
      "Aligning neuron # 262  of  284\n",
      "Aligning neuron # 263  of  284\n",
      "Aligning neuron # 264  of  284\n",
      "Aligning neuron # 265  of  284\n",
      "Aligning neuron # 266  of  284\n",
      "Aligning neuron # 267  of  284\n",
      "Aligning neuron # 268  of  284\n",
      "Aligning neuron # 269  of  284\n",
      "Aligning neuron # 270  of  284\n",
      "Aligning neuron # 271  of  284\n",
      "Aligning neuron # 272  of  284\n",
      "Aligning neuron # 273  of  284\n",
      "Aligning neuron # 274  of  284\n",
      "Aligning neuron # 275  of  284\n",
      "Aligning neuron # 276  of  284\n",
      "Aligning neuron # 277  of  284\n",
      "Aligning neuron # 278  of  284\n",
      "Aligning neuron # 279  of  284\n",
      "Aligning neuron # 280  of  284\n",
      "Aligning neuron # 281  of  284\n",
      "Aligning neuron # 282  of  284\n",
      "Aligning neuron # 283  of  284\n",
      "Aligning neuron # 0  of  105\n",
      "Aligning neuron # 1  of  105\n",
      "Aligning neuron # 2  of  105\n",
      "Aligning neuron # 3  of  105\n",
      "Aligning neuron # 4  of  105\n",
      "Aligning neuron # 5  of  105\n",
      "Aligning neuron # 6  of  105\n",
      "Aligning neuron # 7  of  105\n",
      "Aligning neuron # 8  of  105\n",
      "Aligning neuron # 9  of  105\n",
      "Aligning neuron # 10  of  105\n",
      "Aligning neuron # 11  of  105\n",
      "Aligning neuron # 12  of  105\n",
      "Aligning neuron # 13  of  105\n",
      "Aligning neuron # 14  of  105\n",
      "Aligning neuron # 15  of  105\n",
      "Aligning neuron # 16  of  105\n",
      "Aligning neuron # 17  of  105\n",
      "Aligning neuron # 18  of  105\n",
      "Aligning neuron # 19  of  105\n",
      "Aligning neuron # 20  of  105\n",
      "Aligning neuron # 21  of  105\n",
      "Aligning neuron # 22  of  105\n",
      "Aligning neuron # 23  of  105\n",
      "Aligning neuron # 24  of  105\n",
      "Aligning neuron # 25  of  105\n",
      "Aligning neuron # 26  of  105\n",
      "Aligning neuron # 27  of  105\n",
      "Aligning neuron # 28  of  105\n",
      "Aligning neuron # 29  of  105\n",
      "Aligning neuron # 30  of  105\n",
      "Aligning neuron # 31  of  105\n",
      "Aligning neuron # 32  of  105\n",
      "Aligning neuron # 33  of  105\n",
      "Aligning neuron # 34  of  105\n",
      "Aligning neuron # 35  of  105\n",
      "Aligning neuron # 36  of  105\n",
      "Aligning neuron # 37  of  105\n",
      "Aligning neuron # 38  of  105\n",
      "Aligning neuron # 39  of  105\n",
      "Aligning neuron # 40  of  105\n",
      "Aligning neuron # 41  of  105\n",
      "Aligning neuron # 42  of  105\n",
      "Aligning neuron # 43  of  105\n",
      "Aligning neuron # 44  of  105\n",
      "Aligning neuron # 45  of  105\n",
      "Aligning neuron # 46  of  105\n",
      "Aligning neuron # 47  of  105\n",
      "Aligning neuron # 48  of  105\n",
      "Aligning neuron # 49  of  105\n",
      "Aligning neuron # 50  of  105\n",
      "Aligning neuron # 51  of  105\n",
      "Aligning neuron # 52  of  105\n",
      "Aligning neuron # 53  of  105\n",
      "Aligning neuron # 54  of  105\n",
      "Aligning neuron # 55  of  105\n",
      "Aligning neuron # 56  of  105\n",
      "Aligning neuron # 57  of  105\n",
      "Aligning neuron # 58  of  105\n",
      "Aligning neuron # 59  of  105\n",
      "Aligning neuron # 60  of  105\n",
      "Aligning neuron # 61  of  105\n",
      "Aligning neuron # 62  of  105\n",
      "Aligning neuron # 63  of  105\n",
      "Aligning neuron # 64  of  105\n",
      "Aligning neuron # 65  of  105\n",
      "Aligning neuron # 66  of  105\n",
      "Aligning neuron # 67  of  105\n",
      "Aligning neuron # 68  of  105\n",
      "Aligning neuron # 69  of  105\n",
      "Aligning neuron # 70  of  105\n",
      "Aligning neuron # 71  of  105\n",
      "Aligning neuron # 72  of  105\n",
      "Aligning neuron # 73  of  105\n",
      "Aligning neuron # 74  of  105\n",
      "Aligning neuron # 75  of  105\n",
      "Aligning neuron # 76  of  105\n",
      "Aligning neuron # 77  of  105\n",
      "Aligning neuron # 78  of  105\n",
      "Aligning neuron # 79  of  105\n",
      "Aligning neuron # 80  of  105\n",
      "Aligning neuron # 81  of  105\n",
      "Aligning neuron # 82  of  105\n",
      "Aligning neuron # 83  of  105\n",
      "Aligning neuron # 84  of  105\n",
      "Aligning neuron # 85  of  105\n",
      "Aligning neuron # 86  of  105\n",
      "Aligning neuron # 87  of  105\n",
      "Aligning neuron # 88  of  105\n",
      "Aligning neuron # 89  of  105\n",
      "Aligning neuron # 90  of  105\n",
      "Aligning neuron # 91  of  105\n",
      "Aligning neuron # 92  of  105\n",
      "Aligning neuron # 93  of  105\n",
      "Aligning neuron # 94  of  105\n",
      "Aligning neuron # 95  of  105\n",
      "Aligning neuron # 96  of  105\n",
      "Aligning neuron # 97  of  105\n",
      "Aligning neuron # 98  of  105\n",
      "Aligning neuron # 99  of  105\n",
      "Aligning neuron # 100  of  105\n",
      "Aligning neuron # 101  of  105\n",
      "Aligning neuron # 102  of  105\n",
      "Aligning neuron # 103  of  105\n",
      "Aligning neuron # 104  of  105\n"
     ]
    },
    {
     "name": "stderr",
     "output_type": "stream",
     "text": [
      "C:\\Users\\Le\\Anaconda2\\envs\\py36\\lib\\site-packages\\numpy\\lib\\function_base.py:3003: RuntimeWarning: invalid value encountered in true_divide\n",
      "  c /= stddev[:, None]\n",
      "C:\\Users\\Le\\Anaconda2\\envs\\py36\\lib\\site-packages\\numpy\\lib\\function_base.py:3004: RuntimeWarning: invalid value encountered in true_divide\n",
      "  c /= stddev[None, :]\n"
     ]
    }
   ],
   "source": [
    "stretchlst = np.arange(0.1, 1.0, 0.01)\n",
    "times_caudate = np.array([740, 760, 780, 800, 820, 840, 860, 1300, 1340, 1380, 1420, 1460, 1500, 1540, 1580, 1620])\n",
    "times_cortex = np.array([740, 760, 780, 800, 820, 840, 1300, 1340, 1380, 1420, 1460, 1500, 1540, 1580, 1620])\n",
    "stretch_lin_cortex, stretch_sinc_cortex, corr_lin_cortex, corr_sinc_cortex = \\\n",
    "        find_stretch_all_neurons(reshaped_all_pad_cortex, stretchlst, times_cortex)\n",
    "\n",
    "stretch_lin_caudate, stretch_sinc_caudate, corr_lin_caudate, corr_sinc_caudate = \\\n",
    "        find_stretch_all_neurons(reshaped_all_pad_caudate, stretchlst, times_caudate)"
   ]
  },
  {
   "cell_type": "markdown",
   "metadata": {},
   "source": [
    "## Comparison caudate vs cortex"
   ]
  },
  {
   "cell_type": "code",
   "execution_count": 16,
   "metadata": {},
   "outputs": [
    {
     "ename": "OSError",
     "evalue": "File exists!",
     "output_type": "error",
     "traceback": [
      "\u001b[1;31m---------------------------------------------------------------------------\u001b[0m",
      "\u001b[1;31mOSError\u001b[0m                                   Traceback (most recent call last)",
      "\u001b[1;32m<ipython-input-16-23b3efeebceb>\u001b[0m in \u001b[0;36m<module>\u001b[1;34m()\u001b[0m\n\u001b[0;32m     11\u001b[0m \u001b[0mplt\u001b[0m\u001b[1;33m.\u001b[0m\u001b[0mlegend\u001b[0m\u001b[1;33m(\u001b[0m\u001b[1;33m)\u001b[0m\u001b[1;33m\u001b[0m\u001b[0m\n\u001b[0;32m     12\u001b[0m \u001b[1;33m\u001b[0m\u001b[0m\n\u001b[1;32m---> 13\u001b[1;33m \u001b[0msave_safe\u001b[0m\u001b[1;33m(\u001b[0m\u001b[1;34m'rev_cum_freq_R2vals_all_neurons_cortex_caudate.pdf'\u001b[0m\u001b[1;33m)\u001b[0m\u001b[1;33m\u001b[0m\u001b[0m\n\u001b[0m",
      "\u001b[1;32m<ipython-input-3-47aec953f8c5>\u001b[0m in \u001b[0;36msave_safe\u001b[1;34m(filename, obj)\u001b[0m\n\u001b[0;32m     28\u001b[0m             \u001b[0mnp\u001b[0m\u001b[1;33m.\u001b[0m\u001b[0msavetxt\u001b[0m\u001b[1;33m(\u001b[0m\u001b[0mfilename\u001b[0m\u001b[1;33m,\u001b[0m \u001b[0mobj\u001b[0m\u001b[1;33m,\u001b[0m \u001b[0mdelimiter\u001b[0m\u001b[1;33m=\u001b[0m\u001b[1;34m','\u001b[0m\u001b[1;33m)\u001b[0m\u001b[1;33m\u001b[0m\u001b[0m\n\u001b[0;32m     29\u001b[0m     \u001b[1;32melse\u001b[0m\u001b[1;33m:\u001b[0m\u001b[1;33m\u001b[0m\u001b[0m\n\u001b[1;32m---> 30\u001b[1;33m         \u001b[1;32mraise\u001b[0m \u001b[0mIOError\u001b[0m\u001b[1;33m(\u001b[0m\u001b[1;34m'File exists!'\u001b[0m\u001b[1;33m)\u001b[0m\u001b[1;33m\u001b[0m\u001b[0m\n\u001b[0m",
      "\u001b[1;31mOSError\u001b[0m: File exists!"
     ]
    },
    {
     "data": {
      "image/png": "[encoded data removed]",
      "text/plain": [
       "<matplotlib.figure.Figure at 0x2bca82f6ac8>"
      ]
     },
     "metadata": {},
     "output_type": "display_data"
    }
   ],
   "source": [
    "# Distribution of correlation coefs\n",
    "def ecdf(data):\n",
    "    return np.sort(data), np.arange(len(data)) / len(data)\n",
    "\n",
    "x_cortex, y_cortex = ecdf(corr_lin_cortex**2)\n",
    "x_caudate, y_caudate = ecdf(corr_lin_caudate**2)\n",
    "plt.plot(x_cortex, 1 - y_cortex, label='cortex')\n",
    "plt.plot(x_caudate, 1 - y_caudate, label='caudate')\n",
    "plt.xlabel(r'$R^2$')\n",
    "plt.ylabel('1 - Cumulative Frequency')\n",
    "plt.legend()\n",
    "\n",
    "save_safe('rev_cum_freq_R2vals_all_neurons_cortex_caudate.pdf')"
   ]
  },
  {
   "cell_type": "code",
   "execution_count": null,
   "metadata": {},
   "outputs": [],
   "source": [
    "small = min_[corr_coefs >0.9,:]\n",
    "corr_coefs_good = corr_coefs[corr_coefs >0.9]\n",
    "idx = 11;\n",
    "print(corr_coefs_good[idx])\n",
    "plt.plot(times, small.T, 'bo', alpha=0.07);\n",
    "plt.plot(times, small[idx,:], 'ro')\n",
    "plt.plot(times, times/1620)\n",
    "#plt.plot(times, np.mean(small, axis=0))\n",
    "#plt.errorbar(times, np.mean(small, axis=0), yerr=np.std(small, axis=0), color='red')"
   ]
  },
  {
   "cell_type": "markdown",
   "metadata": {},
   "source": [
    "Sinc and linear give similar results"
   ]
  },
  {
   "cell_type": "code",
   "execution_count": null,
   "metadata": {},
   "outputs": [],
   "source": [
    "small = stretch_lin_cortex[corr_lin_cortex >0.95,:]\n",
    "plt.plot(times, small.T, 'bo', alpha=0.07);\n",
    "plt.plot(times, times/1620)\n",
    "#plt.plot(times, np.mean(small, axis=0))\n",
    "#plt.errorbar(times, np.mean(small, axis=0), yerr=np.std(small, axis=0), color='red')"
   ]
  },
  {
   "cell_type": "code",
   "execution_count": null,
   "metadata": {},
   "outputs": [],
   "source": [
    "n_neuron = 0\n",
    "times_zero = np.concatenate((times, [0]))\n",
    "\n",
    "plt.subplot('121')\n",
    "plt.plot(times_caudate, stretch_lin_caudate[n_neuron, :], '.')\n",
    "#plt.xlim(0, 1700)\n",
    "plt.ylim(0, 2)\n",
    "plt.plot(times_zero, times_zero / max(times), '--')\n",
    "plt.title('Neuron #' + str(n_neuron) + ', sinc')\n",
    "\n",
    "plt.subplot('122')\n",
    "plt.plot(times_caudate, stretch_lin_caudate[n_neuron, :], '.')\n",
    "#plt.xlim(0, 1700)\n",
    "plt.ylim(0, 2)\n",
    "plt.plot(times_zero, times_zero / max(times), '--')\n",
    "plt.title('Neuron #' + str(n_neuron) + ', linear')"
   ]
  },
  {
   "cell_type": "markdown",
   "metadata": {},
   "source": [
    "## Visualize neurons"
   ]
  },
  {
   "cell_type": "code",
   "execution_count": null,
   "metadata": {},
   "outputs": [],
   "source": [
    "neuron_id = 4\n",
    "sref = reshaped_all_pad_caudate[neuron_id, -1, :]\n",
    "sref = sref[~np.isnan(sref)] / np.nanmean(sref)\n",
    "\n",
    "plt.figure(figsize=(10, 5)) \n",
    "plt.subplot('121')\n",
    "for trial in range(15):\n",
    "    s1 = reshaped_all_pad_caudate[neuron_id, trial, :]\n",
    "    s1 = s1[~np.isnan(s1)] / np.nanmean(s1)\n",
    "\n",
    "    x_stretch, _ = total_cost(s1, sref, stretch_lin_caudate[neuron_id, trial], 'linear')\n",
    "    \n",
    "    if trial < 6:\n",
    "        plt.plot(x_stretch, label=str(trial), color=palette_blue[trial])\n",
    "    else:\n",
    "        plt.plot(x_stretch, label=str(trial), color=palette_red[trial - 7])\n",
    "\n",
    "plt.subplot('122')\n",
    "plt.plot(times_caudate, stretch_lin_caudate[neuron_id, :], '.')\n",
    "plt.xlim(0, 1700)\n",
    "plt.ylim(0, 1.2)\n",
    "plt.plot(times_zero, times_zero / max(times), '--')\n",
    "plt.title('Neuron #' + str(neuron_id) + ', correlation = ' + str(corr_lin_caudate[neuron_id]))    "
   ]
  },
  {
   "cell_type": "code",
   "execution_count": null,
   "metadata": {},
   "outputs": [],
   "source": [
    "plt.hist(corr_lin_caudate[~np.isnan(corr_lin_caudate)], bins=20, alpha=0.5, normed=True);\n",
    "plt.hist(corr_lin_cortex[~np.isnan(corr_lin_cortex)], bins=20, alpha=0.5, normed=True);"
   ]
  },
  {
   "cell_type": "markdown",
   "metadata": {},
   "source": [
    "### Fitting with two parameters, scale and shift "
   ]
  },
  {
   "cell_type": "code",
   "execution_count": null,
   "metadata": {
    "collapsed": true
   },
   "outputs": [],
   "source": [
    "aopts = np.arange(0.1, 1.0, 0.01)\n",
    "bopts = np.arange(-5, 5)\n",
    "n_neuron = 0\n",
    "min_stretch_sinc = get_stretch_neuron_new(reshaped_all_pad, n_neuron, \n",
    "                                          boptions, aoptions, 'sinc')\n",
    "#min_stretch_linear = get_stretch_neuron(reshaped_all_pad, n_neuron, stretchlst, 'linear')\n",
    "times = np.array([740, 760, 780, 800, 820, 840, 860, 1300, 1340, 1380, 1420, 1460, 1500, 1540, 1580, 1620])"
   ]
  },
  {
   "cell_type": "code",
   "execution_count": null,
   "metadata": {
    "collapsed": true
   },
   "outputs": [],
   "source": [
    "visualize_stretch_new(reshaped_all_pad, 0, 1, np.array([3.63, 0.309]), 'linear')"
   ]
  },
  {
   "cell_type": "code",
   "execution_count": null,
   "metadata": {
    "collapsed": true
   },
   "outputs": [],
   "source": [
    "s1 = reshaped_all_pad[0, 0, :]\n",
    "sref = reshaped_all_pad[0, -1, :]\n",
    "sref = sref[~np.isnan(sref)] / np.nanmax(sref)\n",
    "s1 = s1[~np.isnan(s1)] / np.nanmax(s1)\n",
    "\n",
    "\n",
    "plt.plot(s1)\n",
    "plt.plot(sref)"
   ]
  },
  {
   "cell_type": "code",
   "execution_count": null,
   "metadata": {
    "collapsed": true
   },
   "outputs": [],
   "source": [
    "plt.subplot('121')\n",
    "plt.plot(times, min_stretch_sinc, '.')\n",
    "plt.xlim(0, 1700)\n",
    "plt.ylim(0, 2)\n",
    "plt.plot(times, times / 1620)\n",
    "plt.title('Neuron #' + str(n_neuron) + ', sinc')\n",
    "\n",
    "plt.subplot('122')\n",
    "plt.plot(times, min_stretch_linear, '.')\n",
    "plt.xlim(0, 1700)\n",
    "plt.ylim(0, 2)\n",
    "plt.plot(times, times / 1620)\n",
    "plt.title('Neuron #' + str(n_neuron) + ', linear')"
   ]
  },
  {
   "cell_type": "code",
   "execution_count": null,
   "metadata": {
    "collapsed": true
   },
   "outputs": [],
   "source": [
    "ntimes = 15\n",
    "neuron = 23\n",
    "sref = reshaped_all_pad[neuron, -1, :]\n",
    "sref = sref[~np.isnan(sref)] / np.nanmax(sref)\n",
    "stretchlst = np.arange(0.1, 1.0, 0.001)\n",
    "\n",
    "min_stretch = []\n",
    "for i in range(16):\n",
    "    s1 = reshaped_all_pad[neuron, i, :]\n",
    "    s1 = s1[~np.isnan(s1)] / np.nanmax(s1)\n",
    "    cost = []\n",
    "    for a in stretchlst:\n",
    "        xs, cost_single = total_cost(s1, sref, a)\n",
    "        cost.append(cost_single)\n",
    "    min_stretch.append(stretchlst[np.argmin(cost)])\n",
    "    #print(stretchlst[np.argmin(cost)])\n",
    "\n",
    "times = np.array([740, 760, 780, 800, 820, 840, 860, 1300, 1340, 1380, 1420, 1460, 1500, 1540, 1580, 1620])\n",
    "plt.plot(times, np.array(min_stretch), '.')\n",
    "plt.xlim(0, 1700)\n",
    "plt.ylim(0, 2)\n",
    "plt.plot(times, times / 1620)"
   ]
  },
  {
   "cell_type": "markdown",
   "metadata": {
    "collapsed": true
   },
   "source": [
    "## Load saved data in warp files"
   ]
  },
  {
   "cell_type": "code",
   "execution_count": 41,
   "metadata": {
    "collapsed": true
   },
   "outputs": [],
   "source": [
    "stretch_twpca_caudate = np.zeros_like(stretch_lin_caudate)"
   ]
  },
  {
   "cell_type": "code",
   "execution_count": 55,
   "metadata": {},
   "outputs": [
    {
     "data": {
      "text/plain": [
       "[<matplotlib.lines.Line2D at 0x2bca9eda0b8>]"
      ]
     },
     "execution_count": 55,
     "metadata": {},
     "output_type": "execute_result"
    },
    {
     "data": {
      "image/png": "[encoded data removed]",
      "text/plain": [
       "<matplotlib.figure.Figure at 0x2bca9eda2e8>"
      ]
     },
     "metadata": {},
     "output_type": "display_data"
    }
   ],
   "source": [
    "plt.plot(times_caudate, 1/stretch_twpca_caudate.T, 'bo', alpha=0.07);\n",
    "plt.plot(times_caudate, times_caudate / max(times_caudate))"
   ]
  },
  {
   "cell_type": "code",
   "execution_count": 54,
   "metadata": {},
   "outputs": [
    {
     "name": "stdout",
     "output_type": "stream",
     "text": [
      "Working on neuron 0\n",
      "Working on neuron 1\n",
      "Working on neuron 2\n",
      "Working on neuron 3\n",
      "Working on neuron 4\n",
      "Working on neuron 5\n",
      "Working on neuron 6\n",
      "Working on neuron 7\n",
      "Working on neuron 8\n",
      "Working on neuron 9\n",
      "Working on neuron 10\n",
      "Working on neuron 11\n",
      "Working on neuron 12\n",
      "Working on neuron 13\n",
      "Working on neuron 14\n",
      "Working on neuron 15\n",
      "Working on neuron 16\n",
      "Working on neuron 17\n",
      "Working on neuron 18\n",
      "Working on neuron 19\n",
      "Working on neuron 20\n",
      "Working on neuron 21\n",
      "Working on neuron 22\n",
      "Working on neuron 23\n",
      "Working on neuron 24\n",
      "Working on neuron 25\n",
      "Working on neuron 26\n",
      "Working on neuron 27\n",
      "Working on neuron 28\n",
      "Working on neuron 29\n",
      "Working on neuron 30\n",
      "Working on neuron 31\n",
      "Working on neuron 32\n",
      "Working on neuron 33\n",
      "Working on neuron 34\n",
      "Working on neuron 35\n",
      "Working on neuron 36\n",
      "Working on neuron 37\n",
      "Working on neuron 38\n",
      "Working on neuron 39\n",
      "Working on neuron 40\n",
      "Working on neuron 41\n",
      "Working on neuron 42\n",
      "Working on neuron 43\n",
      "Working on neuron 44\n",
      "Working on neuron 45\n",
      "Working on neuron 46\n",
      "Working on neuron 47\n",
      "Working on neuron 48\n",
      "Working on neuron 49\n",
      "Working on neuron 50\n",
      "Working on neuron 51\n",
      "Working on neuron 52\n",
      "Working on neuron 53\n",
      "Working on neuron 54\n",
      "Working on neuron 55\n",
      "Working on neuron 56\n",
      "Working on neuron 57\n",
      "Working on neuron 58\n",
      "Working on neuron 59\n",
      "Working on neuron 60\n",
      "Working on neuron 61\n",
      "Working on neuron 62\n",
      "Working on neuron 63\n",
      "Working on neuron 64\n",
      "Working on neuron 65\n",
      "Working on neuron 66\n",
      "Working on neuron 67\n",
      "Working on neuron 68\n",
      "Working on neuron 69\n",
      "Working on neuron 70\n",
      "Working on neuron 71\n",
      "Working on neuron 72\n",
      "Working on neuron 73\n",
      "Working on neuron 74\n",
      "Working on neuron 75\n",
      "Working on neuron 76\n",
      "Working on neuron 77\n",
      "Working on neuron 78\n",
      "Working on neuron 79\n",
      "Working on neuron 80\n",
      "Working on neuron 81\n",
      "Working on neuron 82\n",
      "Working on neuron 83\n",
      "Working on neuron 84\n",
      "Working on neuron 85\n",
      "Working on neuron 86\n",
      "Working on neuron 87\n",
      "Working on neuron 88\n",
      "Working on neuron 89\n",
      "Working on neuron 90\n",
      "Working on neuron 91\n",
      "Working on neuron 92\n",
      "Working on neuron 93\n",
      "Working on neuron 94\n",
      "Working on neuron 95\n",
      "Working on neuron 96\n",
      "Working on neuron 97\n",
      "Working on neuron 98\n",
      "Working on neuron 99\n",
      "Working on neuron 100\n",
      "Working on neuron 101\n",
      "Working on neuron 102\n",
      "Working on neuron 103\n",
      "Working on neuron 104\n"
     ]
    }
   ],
   "source": [
    "for i in range(105):\n",
    "    print('Working on neuron %d' % i)\n",
    "    filename = './Processed_neurons/XACaudate/neuron%d_init_shift_warp_affine_warp.csv' % i\n",
    "    try:\n",
    "        warp = np.loadtxt(filename, delimiter=',')\n",
    "    except FileNotFoundError:\n",
    "        pass\n",
    "    stretch_twpca_caudate[i,:] = (warp[:,-1] - warp[:,0]) / (warp.shape[1] - 1)"
   ]
  },
  {
   "cell_type": "code",
   "execution_count": 38,
   "metadata": {},
   "outputs": [
    {
     "data": {
      "text/plain": [
       "[<matplotlib.lines.Line2D at 0x2bca96b00b8>]"
      ]
     },
     "execution_count": 38,
     "metadata": {},
     "output_type": "execute_result"
    },
    {
     "data": {
      "image/png": "[encoded data removed]",
      "text/plain": [
       "<matplotlib.figure.Figure at 0x2bca95e61d0>"
      ]
     },
     "metadata": {},
     "output_type": "display_data"
    }
   ],
   "source": [
    "plt.plot(times_caudate, 1/stretches, '.')"
   ]
  },
  {
   "cell_type": "code",
   "execution_count": null,
   "metadata": {
    "collapsed": true
   },
   "outputs": [],
   "source": []
  }
 ],
 "metadata": {
  "anaconda-cloud": {},
  "kernelspec": {
   "display_name": "Python [py36]",
   "language": "python",
   "name": "Python [py36]"
  },
  "language_info": {
   "codemirror_mode": {
    "name": "ipython",
    "version": 3
   },
   "file_extension": ".py",
   "mimetype": "text/x-python",
   "name": "python",
   "nbconvert_exporter": "python",
   "pygments_lexer": "ipython3",
   "version": "3.6.1"
  }
 },
 "nbformat": 4,
 "nbformat_minor": 1
}
